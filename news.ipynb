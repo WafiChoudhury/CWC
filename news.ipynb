{
  "nbformat": 4,
  "nbformat_minor": 0,
  "metadata": {
    "colab": {
      "name": " news.ipynb",
      "provenance": [],
      "collapsed_sections": [],
      "history_visible": true,
      "authorship_tag": "ABX9TyMYYr3REJwns2/qK2SgGxtJ",
      "include_colab_link": true
    },
    "kernelspec": {
      "name": "python3",
      "display_name": "Python 3"
    },
    "language_info": {
      "name": "python"
    }
  },
  "cells": [
    {
      "cell_type": "markdown",
      "metadata": {
        "id": "view-in-github",
        "colab_type": "text"
      },
      "source": [
        "<a href=\"https://colab.research.google.com/github/WafiChoudhury/CWC/blob/main/news.ipynb\" target=\"_parent\"><img src=\"https://colab.research.google.com/assets/colab-badge.svg\" alt=\"Open In Colab\"/></a>"
      ]
    },
    {
      "cell_type": "code",
      "execution_count": 21,
      "metadata": {
        "id": "O6P2mUpIMPgA"
      },
      "outputs": [],
      "source": [
        "import requests\n",
        "from requests.exceptions import HTTPError\n",
        "\n",
        "# ad5b89115458417ead81285425671a68\n",
        "import requests\n",
        "import firebase_admin\n",
        "from firebase_admin import credentials, firestore"
      ]
    },
    {
      "cell_type": "code",
      "source": [
        ""
      ],
      "metadata": {
        "id": "zLPSdv0bMUPU"
      },
      "execution_count": 21,
      "outputs": []
    },
    {
      "cell_type": "code",
      "source": [
        "def quickstart_new_instance(author, source, content):\n",
        "\n",
        "    if not firebase_admin._apps:\n",
        "        cred = credentials.Certificate(\n",
        "        \"/content/quiknews-31048-firebase-adminsdk-ihb4r-629dcbadf2.json\")    \n",
        "        default_app = firebase_admin.initialize_app(cred)\n",
        "\n",
        "\n",
        "\n",
        "    db = firestore.client()\n",
        "\n",
        "    doc_ref = db.collection(u'Articles')\n",
        "\n",
        "    data = {\n",
        "            u'Author': author,\n",
        "            u'Content': content,\n",
        "            u'Source': source\n",
        "        }\n",
        "    # Add a new doc in collection 'cities' with ID 'LA'\n",
        "    db.collection(u'Articles').add(data)\n"
      ],
      "metadata": {
        "id": "rLlZyD2rquGN"
      },
      "execution_count": 35,
      "outputs": []
    },
    {
      "cell_type": "code",
      "source": [
        "def get_from_NewsAPI():\n",
        "\n",
        "    url = ('https://newsapi.org/v2/everything?'\n",
        "           'q=Apple&'\n",
        "           'from=2022-05-19&'\n",
        "           'sortBy=popularity&'\n",
        "           'apiKey=ad5b89115458417ead81285425671a68')\n",
        "\n",
        "    response = requests.get(url)\n",
        "    data = response.json()\n",
        "    json_str = json.dumps(data)\n",
        "    resp_dict = json.loads(json_str)\n",
        "\n",
        "    arrOfDicts = []\n",
        "\n",
        "    for key in resp_dict['articles']:\n",
        "        source = key['source']['name']\n",
        "        author = key[\"author\"]\n",
        "        content = key[\"content\"]\n",
        "        print(content)\n",
        "        quickstart_new_instance(author, source, content) \n",
        "\n",
        "get_from_NewsAPI()"
      ],
      "metadata": {
        "id": "rr0cXVltsTbV",
        "colab": {
          "base_uri": "https://localhost:8080/"
        },
        "outputId": "b29f961a-6cd8-47ea-df09-1c5725194a5c"
      },
      "execution_count": 37,
      "outputs": [
        {
          "output_type": "stream",
          "name": "stdout",
          "text": [
            "You dont know you sound bad on a FaceTime or Zoom call until someone points it out. If youre chatting with a particularly polite bunch, you might never know, and your hilarious stories or inspiring s… [+2653 chars]\n",
            "If you live with other people, youre bound to deal with an unwelcome iPhone alarm. Maybe theyre sleeping soundly through the screeches or left their device behind and forgot to turn off the alarm. Ei… [+1812 chars]\n",
            "A long time ago, smartphones were small. Like, really small. It used to be a given that such a device should fit snugly in the hand, so you could do everything you need to with it using only your thu… [+5130 chars]\n",
            "Cydias antitrust case against Apple can move forward, according to Reuters\n",
            ". On Thursday, Judge Yvonne Gonzalez Rogers, the same judge that oversaw the case between Apple and Epic Games\n",
            ", ruled Cyd… [+1363 chars]\n",
            "Residents of Maryland can now add their drivers license or state ID\n",
            " to Apple Wallet on iPhone\n",
            " and Apple Watch\n",
            ". Users there will be able to verify their identity digitally, though there are limi… [+1619 chars]\n",
            "Audi owners can now play Apple Music through their infotainment systems without having to connect it to their iPhones via Bluetooth or USB. The luxury automaker has rolled out Apple Music integration… [+1205 chars]\n",
            "If you've got a bunch of items you need to protect from theft or loss, you can now pick up a four-pack of Apple's AirTags at Amazon and Best Buy for $89, or $10 (10 percent) off. We've seen them a li… [+1204 chars]\n",
            "With the start of June a week away, Apple has announced\n",
            " two new Pride-themed Watch bands. The first one is a take on the companys classic sport loop style. The design features a color gradient that… [+1356 chars]\n",
            "Apple will start paying its corporate and retail employees more likely in hopes that they won't leave the company to find better prospects. According to CNBC and The Financial Times, the company will… [+1855 chars]\n",
            "While you may waiting in anticipation for Apple's next iteration of the MacBook Air, the current model is on sale at Amazon. You can pick up the 256GB MacBook Air M1 for $900 right now, or $100 off i… [+1656 chars]\n",
            "Picking out something new to watch from Netflixs slew of kids titles can be overwhelming, for both parents and children. And sometimes kids are just indecisive. But the streaming services new Mystery… [+1317 chars]\n",
            "Memorial Day is nearly here and, as usual, you can find a number of solid gadget deals across the web ahead of the holiday. A few Apple devices are on sale, including the latest AirPods for $150, and… [+9422 chars]\n",
            "A bill that would break up Google's\n",
            " advertising business if it becomes law has been introduced in the Senate. The Competition and Transparency in Digital Advertising Act, which has support on both … [+2839 chars]\n",
            "We live in an age where the power of narrative is so strong that it has become the defining way to build organizations, products and brands. In recent decades, the tech industry has presented itself … [+7865 chars]\n",
            "One day Recently, I arrived at the Manhattan office where I work as a tutor. I hoped to tame my inbox before my first session. Instead, I clicked a news alert and succumbed to a media storm of Ukrain… [+4549 chars]\n",
            "Goodbye iPod, hello Eyes Pod. According to a report by Bloombergs Mark Gurman, Apple has demonstrated a new Apple-made VR headset to its board. Such a product has been rumored for a while and has rep… [+3917 chars]\n",
            "More than 40 Democratic members of Congress called on Google to stop collecting and retaining customer location data that prosecutors could use to identify women who obtain abortions.\n",
            "We are concern… [+3882 chars]\n",
            "We could be getting close to an announcement\n",
            "It may not come in time for WWDC, though.\n",
            "Illustration by Alex Castro / The Verge\n",
            "Apple showed a mixed reality headset capable of both augmented and vi… [+2536 chars]\n",
            "Match has set up a $40 million escrow fund in lieu of paying Google\n",
            "Illustration by Alex Castro / The Verge\n",
            "Google has reached an interim agreement with Match Group, the dating app provider behind … [+3358 chars]\n",
            "The Busy Bistro Magic Puzzle\n",
            "Gifting a puzzle might sound a bit tame, but it can be an exciting one if it's as uniquely detailed as The Busy Bistro Magic Puzzle. It'll be a gift that puzzle lovers a… [+11354 chars]\n"
          ]
        }
      ]
    },
    {
      "cell_type": "code",
      "source": [
        ""
      ],
      "metadata": {
        "id": "fwJBEwys_Mnv"
      },
      "execution_count": null,
      "outputs": []
    }
  ]
}